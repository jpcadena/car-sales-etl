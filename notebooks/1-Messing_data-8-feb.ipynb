{
 "cells": [
  {
   "cell_type": "code",
   "execution_count": 3,
   "metadata": {
    "collapsed": true
   },
   "outputs": [],
   "source": [
    "\"\"\"\n",
    "Messing data notebook\n",
    "\"\"\"\n",
    "from datetime import datetime\n",
    "from random import randint\n",
    "import numpy as np\n",
    "import pandas as pd\n",
    "from pandas import NaT\n",
    "from pandas.io.parsers import TextFileReader"
   ]
  },
  {
   "cell_type": "code",
   "execution_count": 8,
   "outputs": [],
   "source": [
    "MISSING_VALUES_PCT = 0.01\n",
    "filepath: str = 'C:/Users/juanp/PycharmProjects/car-sales-etl/data/raw/Car Sales.csv'\n",
    "text_file_reader: TextFileReader = pd.read_csv(\n",
    "    filepath, header=0, chunksize=5000,\n",
    "    encoding='UTF-8')\n",
    "raw_df: pd.DataFrame = pd.concat(\n",
    "    text_file_reader, ignore_index=True)\n",
    "d1: datetime = datetime.strptime(\"01/01/2018\", \"%d/%m/%Y\")\n",
    "d2: datetime = datetime.strptime(\"31/12/2022\", \"%d/%m/%Y\")\n",
    "np.random.seed(42)"
   ],
   "metadata": {
    "collapsed": false
   }
  },
  {
   "cell_type": "code",
   "execution_count": 9,
   "outputs": [],
   "source": [
    "def random_date(first_date, second_date):\n",
    "    first_timestamp = int(first_date.timestamp())\n",
    "    second_timestamp = int(second_date.timestamp())\n",
    "    random_timestamp = randint(first_timestamp, second_timestamp)\n",
    "    return datetime.fromtimestamp(random_timestamp)"
   ],
   "metadata": {
    "collapsed": false
   }
  },
  {
   "cell_type": "code",
   "execution_count": 10,
   "outputs": [],
   "source": [
    "raw_df['Purchase Date'] = [random_date(d1, d2) for _ in range(raw_df.shape[0])]"
   ],
   "metadata": {
    "collapsed": false
   }
  },
  {
   "cell_type": "code",
   "execution_count": 11,
   "outputs": [],
   "source": [
    "np.random.seed(0)\n",
    "mask = np.random.rand(len(raw_df)) < MISSING_VALUES_PCT\n",
    "raw_df.loc[mask, ['Buyer Age']] = np.nan\n",
    "np.random.seed(1)\n",
    "mask = np.random.rand(len(raw_df)) < MISSING_VALUES_PCT\n",
    "raw_df.loc[mask, ['Discount']] = np.nan\n",
    "np.random.seed(2)\n",
    "mask = np.random.rand(len(raw_df)) < MISSING_VALUES_PCT\n",
    "raw_df.loc[mask, ['Sale Price']] = np.nan\n",
    "\n",
    "np.random.seed(3)\n",
    "mask = np.random.rand(len(raw_df)) < MISSING_VALUES_PCT\n",
    "raw_df.loc[mask, ['Buyer Gender']] = None\n",
    "np.random.seed(4)\n",
    "mask = np.random.rand(len(raw_df)) < MISSING_VALUES_PCT\n",
    "raw_df.loc[mask, ['Color']] = None\n",
    "np.random.seed(5)\n",
    "mask = np.random.rand(len(raw_df)) < MISSING_VALUES_PCT\n",
    "raw_df.loc[mask, ['Make']] = None\n",
    "np.random.seed(6)\n",
    "mask = np.random.rand(len(raw_df)) < MISSING_VALUES_PCT\n",
    "raw_df.loc[mask, ['New Car']] = None\n",
    "np.random.seed(7)\n",
    "mask = np.random.rand(len(raw_df)) < MISSING_VALUES_PCT\n",
    "raw_df.loc[mask, ['Purchase Date']] = NaT\n"
   ],
   "metadata": {
    "collapsed": false
   }
  },
  {
   "cell_type": "code",
   "execution_count": 12,
   "outputs": [
    {
     "data": {
      "text/plain": "      Buyer Gender       Color        Make New Car       Purchase Date  \\\n0             Male      Maroon      Toyota    True 2021-02-19 06:39:05   \n1          Agender  Aquamarine         BMW    True 2019-10-29 03:44:43   \n2             Male      Maroon   Chevrolet    True 2022-04-22 16:30:21   \n3             Male         Red        Ford   False 2019-12-23 17:51:15   \n4             Male      Purple  Mitsubishi    True 2021-03-05 05:59:18   \n...            ...         ...         ...     ...                 ...   \n10995         Male        Teal     Ferrari    True 2022-10-15 04:09:31   \n10996         Male      Fuscia  Volkswagen    True 2021-09-15 12:17:48   \n10997       Female        Teal         GMC   False 2019-07-26 15:04:15   \n10998       Female         Red     Porsche   False 2020-08-24 06:30:52   \n10999         Male        Teal       Isuzu    True 2019-08-25 07:22:03   \n\n       Buyer Age  Discount  Sale Price  \n0           45.0      0.08     55842.0  \n1           24.0      0.46     33084.0  \n2           34.0       NaN     59488.0  \n3           57.0      0.06     66418.0  \n4           45.0      0.49     69182.0  \n...          ...       ...         ...  \n10995       61.0      0.36     67757.0  \n10996       41.0      0.16     12386.0  \n10997       27.0      0.33     63839.0  \n10998       38.0      0.22     44126.0  \n10999       31.0      0.38     37182.0  \n\n[11000 rows x 8 columns]",
      "text/html": "<div>\n<style scoped>\n    .dataframe tbody tr th:only-of-type {\n        vertical-align: middle;\n    }\n\n    .dataframe tbody tr th {\n        vertical-align: top;\n    }\n\n    .dataframe thead th {\n        text-align: right;\n    }\n</style>\n<table border=\"1\" class=\"dataframe\">\n  <thead>\n    <tr style=\"text-align: right;\">\n      <th></th>\n      <th>Buyer Gender</th>\n      <th>Color</th>\n      <th>Make</th>\n      <th>New Car</th>\n      <th>Purchase Date</th>\n      <th>Buyer Age</th>\n      <th>Discount</th>\n      <th>Sale Price</th>\n    </tr>\n  </thead>\n  <tbody>\n    <tr>\n      <th>0</th>\n      <td>Male</td>\n      <td>Maroon</td>\n      <td>Toyota</td>\n      <td>True</td>\n      <td>2021-02-19 06:39:05</td>\n      <td>45.0</td>\n      <td>0.08</td>\n      <td>55842.0</td>\n    </tr>\n    <tr>\n      <th>1</th>\n      <td>Agender</td>\n      <td>Aquamarine</td>\n      <td>BMW</td>\n      <td>True</td>\n      <td>2019-10-29 03:44:43</td>\n      <td>24.0</td>\n      <td>0.46</td>\n      <td>33084.0</td>\n    </tr>\n    <tr>\n      <th>2</th>\n      <td>Male</td>\n      <td>Maroon</td>\n      <td>Chevrolet</td>\n      <td>True</td>\n      <td>2022-04-22 16:30:21</td>\n      <td>34.0</td>\n      <td>NaN</td>\n      <td>59488.0</td>\n    </tr>\n    <tr>\n      <th>3</th>\n      <td>Male</td>\n      <td>Red</td>\n      <td>Ford</td>\n      <td>False</td>\n      <td>2019-12-23 17:51:15</td>\n      <td>57.0</td>\n      <td>0.06</td>\n      <td>66418.0</td>\n    </tr>\n    <tr>\n      <th>4</th>\n      <td>Male</td>\n      <td>Purple</td>\n      <td>Mitsubishi</td>\n      <td>True</td>\n      <td>2021-03-05 05:59:18</td>\n      <td>45.0</td>\n      <td>0.49</td>\n      <td>69182.0</td>\n    </tr>\n    <tr>\n      <th>...</th>\n      <td>...</td>\n      <td>...</td>\n      <td>...</td>\n      <td>...</td>\n      <td>...</td>\n      <td>...</td>\n      <td>...</td>\n      <td>...</td>\n    </tr>\n    <tr>\n      <th>10995</th>\n      <td>Male</td>\n      <td>Teal</td>\n      <td>Ferrari</td>\n      <td>True</td>\n      <td>2022-10-15 04:09:31</td>\n      <td>61.0</td>\n      <td>0.36</td>\n      <td>67757.0</td>\n    </tr>\n    <tr>\n      <th>10996</th>\n      <td>Male</td>\n      <td>Fuscia</td>\n      <td>Volkswagen</td>\n      <td>True</td>\n      <td>2021-09-15 12:17:48</td>\n      <td>41.0</td>\n      <td>0.16</td>\n      <td>12386.0</td>\n    </tr>\n    <tr>\n      <th>10997</th>\n      <td>Female</td>\n      <td>Teal</td>\n      <td>GMC</td>\n      <td>False</td>\n      <td>2019-07-26 15:04:15</td>\n      <td>27.0</td>\n      <td>0.33</td>\n      <td>63839.0</td>\n    </tr>\n    <tr>\n      <th>10998</th>\n      <td>Female</td>\n      <td>Red</td>\n      <td>Porsche</td>\n      <td>False</td>\n      <td>2020-08-24 06:30:52</td>\n      <td>38.0</td>\n      <td>0.22</td>\n      <td>44126.0</td>\n    </tr>\n    <tr>\n      <th>10999</th>\n      <td>Male</td>\n      <td>Teal</td>\n      <td>Isuzu</td>\n      <td>True</td>\n      <td>2019-08-25 07:22:03</td>\n      <td>31.0</td>\n      <td>0.38</td>\n      <td>37182.0</td>\n    </tr>\n  </tbody>\n</table>\n<p>11000 rows × 8 columns</p>\n</div>"
     },
     "execution_count": 12,
     "metadata": {},
     "output_type": "execute_result"
    }
   ],
   "source": [
    "raw_df"
   ],
   "metadata": {
    "collapsed": false
   }
  },
  {
   "cell_type": "code",
   "execution_count": null,
   "outputs": [],
   "source": [
    "raw_df.to_csv('C:/Users/juanp/PycharmProjects/car-sales-etl/data/raw/raw_data.csv',\n",
    "              index=False, encoding='UTF-8')\n"
   ],
   "metadata": {
    "collapsed": false
   }
  }
 ],
 "metadata": {
  "kernelspec": {
   "display_name": "Python 3",
   "language": "python",
   "name": "python3"
  },
  "language_info": {
   "codemirror_mode": {
    "name": "ipython",
    "version": 2
   },
   "file_extension": ".py",
   "mimetype": "text/x-python",
   "name": "python",
   "nbconvert_exporter": "python",
   "pygments_lexer": "ipython2",
   "version": "2.7.6"
  }
 },
 "nbformat": 4,
 "nbformat_minor": 0
}
